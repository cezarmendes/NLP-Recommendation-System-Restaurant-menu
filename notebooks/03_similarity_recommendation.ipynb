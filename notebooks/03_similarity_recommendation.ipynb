{
 "cells": [
  {
   "cell_type": "markdown",
   "id": "59552a382ffd0ae4",
   "metadata": {
    "collapsed": false,
    "id": "59552a382ffd0ae4"
   },
   "source": [
    "# Recomendation System - Yelp"
   ]
  },
  {
   "cell_type": "code",
   "execution_count": 32,
   "id": "initial_id",
   "metadata": {
    "collapsed": true,
    "id": "initial_id",
    "ExecuteTime": {
     "end_time": "2023-12-28T00:25:38.226363900Z",
     "start_time": "2023-12-28T00:25:38.142278900Z"
    }
   },
   "outputs": [],
   "source": [
    "# Imports\n",
    "import pandas as pd\n",
    "import numpy as np\n",
    "import matplotlib.pyplot as plt\n",
    "import nltk\n",
    "from nltk.stem.porter import PorterStemmer\n",
    "from sklearn.feature_extraction.text import TfidfVectorizer\n",
    "from sklearn.metrics.pairwise import cosine_similarity\n",
    "plt.style.use('ggplot')\n",
    "import warnings\n",
    "warnings.filterwarnings('ignore')"
   ]
  },
  {
   "cell_type": "markdown",
   "id": "c89282be8a5af217",
   "metadata": {
    "collapsed": false,
    "id": "c89282be8a5af217"
   },
   "source": [
    "## Loading Dataset"
   ]
  },
  {
   "cell_type": "code",
   "execution_count": 2,
   "id": "a05404af74fa4b91",
   "metadata": {
    "id": "a05404af74fa4b91",
    "outputId": "7703ecdd-60dc-45d9-f6ff-6fea4fbe6310",
    "ExecuteTime": {
     "end_time": "2023-12-28T00:18:30.288024600Z",
     "start_time": "2023-12-28T00:18:29.678650800Z"
    }
   },
   "outputs": [
    {
     "data": {
      "text/plain": "   id_review  stars  useful  funny  cool  \\\n0          0    4.0       0      0     0   \n1          1    4.0      12      3     7   \n2          2    1.0       3      0     0   \n3          3    5.0       4      2     4   \n4          4    5.0       1      0     2   \n5          5    5.0       0      0     0   \n6          6    5.0       1      0     1   \n7          7    4.0       7      0     1   \n8          8    1.0       1      1     0   \n9          9    5.0       0      0     0   \n\n                                                text  \\\n0  we landed at the reno airport for our honeymoo...   \n1  this atmosphere is certainly geared towards am...   \n2  food and service are key components to enjoy a...   \n3  cyranos is a hidden gem that i wish i had know...   \n4  wow kekes truly impressed me this afternoon  m...   \n5  its quite a drive to sparks but there are only...   \n6  my husband and i visited this location for lun...   \n7  finally stopped by here after getting tired of...   \n8  i went here for lunch after an extremely cold ...   \n9  called and ordered the chicken tikka pizza  es...   \n\n                                      food mentioned sentiment  \n0  [pizza, egg, beef, cake, coffee, tea, pancake,...  positive  \n1           [pork, shrimp, ribs, bbq, ramen, potato]  positive  \n2                                    [rice, dessert]  negative  \n3       [rice, bread, crab, cake, dessert, cocktail]  positive  \n4                                              [egg]  positive  \n5                               [soup, pie, falafel]  positive  \n6          [steak, salad, cheese, shrimp, tea, taco]  positive  \n7  [chicken, fish, salad, rice, bread, egg, pork,...  positive  \n8                             [soup, sandwich, meat]  negative  \n9                                   [pizza, chicken]  positive  ",
      "text/html": "<div>\n<style scoped>\n    .dataframe tbody tr th:only-of-type {\n        vertical-align: middle;\n    }\n\n    .dataframe tbody tr th {\n        vertical-align: top;\n    }\n\n    .dataframe thead th {\n        text-align: right;\n    }\n</style>\n<table border=\"1\" class=\"dataframe\">\n  <thead>\n    <tr style=\"text-align: right;\">\n      <th></th>\n      <th>id_review</th>\n      <th>stars</th>\n      <th>useful</th>\n      <th>funny</th>\n      <th>cool</th>\n      <th>text</th>\n      <th>food mentioned</th>\n      <th>sentiment</th>\n    </tr>\n  </thead>\n  <tbody>\n    <tr>\n      <th>0</th>\n      <td>0</td>\n      <td>4.0</td>\n      <td>0</td>\n      <td>0</td>\n      <td>0</td>\n      <td>we landed at the reno airport for our honeymoo...</td>\n      <td>[pizza, egg, beef, cake, coffee, tea, pancake,...</td>\n      <td>positive</td>\n    </tr>\n    <tr>\n      <th>1</th>\n      <td>1</td>\n      <td>4.0</td>\n      <td>12</td>\n      <td>3</td>\n      <td>7</td>\n      <td>this atmosphere is certainly geared towards am...</td>\n      <td>[pork, shrimp, ribs, bbq, ramen, potato]</td>\n      <td>positive</td>\n    </tr>\n    <tr>\n      <th>2</th>\n      <td>2</td>\n      <td>1.0</td>\n      <td>3</td>\n      <td>0</td>\n      <td>0</td>\n      <td>food and service are key components to enjoy a...</td>\n      <td>[rice, dessert]</td>\n      <td>negative</td>\n    </tr>\n    <tr>\n      <th>3</th>\n      <td>3</td>\n      <td>5.0</td>\n      <td>4</td>\n      <td>2</td>\n      <td>4</td>\n      <td>cyranos is a hidden gem that i wish i had know...</td>\n      <td>[rice, bread, crab, cake, dessert, cocktail]</td>\n      <td>positive</td>\n    </tr>\n    <tr>\n      <th>4</th>\n      <td>4</td>\n      <td>5.0</td>\n      <td>1</td>\n      <td>0</td>\n      <td>2</td>\n      <td>wow kekes truly impressed me this afternoon  m...</td>\n      <td>[egg]</td>\n      <td>positive</td>\n    </tr>\n    <tr>\n      <th>5</th>\n      <td>5</td>\n      <td>5.0</td>\n      <td>0</td>\n      <td>0</td>\n      <td>0</td>\n      <td>its quite a drive to sparks but there are only...</td>\n      <td>[soup, pie, falafel]</td>\n      <td>positive</td>\n    </tr>\n    <tr>\n      <th>6</th>\n      <td>6</td>\n      <td>5.0</td>\n      <td>1</td>\n      <td>0</td>\n      <td>1</td>\n      <td>my husband and i visited this location for lun...</td>\n      <td>[steak, salad, cheese, shrimp, tea, taco]</td>\n      <td>positive</td>\n    </tr>\n    <tr>\n      <th>7</th>\n      <td>7</td>\n      <td>4.0</td>\n      <td>7</td>\n      <td>0</td>\n      <td>1</td>\n      <td>finally stopped by here after getting tired of...</td>\n      <td>[chicken, fish, salad, rice, bread, egg, pork,...</td>\n      <td>positive</td>\n    </tr>\n    <tr>\n      <th>8</th>\n      <td>8</td>\n      <td>1.0</td>\n      <td>1</td>\n      <td>1</td>\n      <td>0</td>\n      <td>i went here for lunch after an extremely cold ...</td>\n      <td>[soup, sandwich, meat]</td>\n      <td>negative</td>\n    </tr>\n    <tr>\n      <th>9</th>\n      <td>9</td>\n      <td>5.0</td>\n      <td>0</td>\n      <td>0</td>\n      <td>0</td>\n      <td>called and ordered the chicken tikka pizza  es...</td>\n      <td>[pizza, chicken]</td>\n      <td>positive</td>\n    </tr>\n  </tbody>\n</table>\n</div>"
     },
     "execution_count": 2,
     "metadata": {},
     "output_type": "execute_result"
    }
   ],
   "source": [
    "df = pd.read_parquet('./dataset/yelp_dataset.parquet')\n",
    "df.head(10)"
   ]
  },
  {
   "cell_type": "code",
   "execution_count": 3,
   "id": "5b4c2ba985918a12",
   "metadata": {
    "id": "5b4c2ba985918a12",
    "outputId": "59569a8f-3571-41b4-d8a7-39df8aa1c2d4",
    "ExecuteTime": {
     "end_time": "2023-12-28T00:18:31.622952300Z",
     "start_time": "2023-12-28T00:18:31.579183Z"
    }
   },
   "outputs": [
    {
     "data": {
      "text/plain": "(10000, 8)"
     },
     "execution_count": 3,
     "metadata": {},
     "output_type": "execute_result"
    }
   ],
   "source": [
    "df.shape"
   ]
  },
  {
   "cell_type": "code",
   "execution_count": 4,
   "id": "482c2f2a36c281dc",
   "metadata": {
    "id": "482c2f2a36c281dc",
    "ExecuteTime": {
     "end_time": "2023-12-28T00:18:32.880745800Z",
     "start_time": "2023-12-28T00:18:32.827727Z"
    }
   },
   "outputs": [],
   "source": [
    "df_cluster = df.copy()"
   ]
  },
  {
   "cell_type": "markdown",
   "id": "db0a539f1096cc36",
   "metadata": {
    "collapsed": false,
    "id": "db0a539f1096cc36"
   },
   "source": [
    "# Preprocessing"
   ]
  },
  {
   "cell_type": "code",
   "execution_count": 5,
   "id": "be41b079712638e7",
   "metadata": {
    "id": "be41b079712638e7",
    "outputId": "f8f02398-99e9-4a84-e516-ac1545416639",
    "ExecuteTime": {
     "end_time": "2023-12-28T00:18:35.174191700Z",
     "start_time": "2023-12-28T00:18:35.145264Z"
    }
   },
   "outputs": [
    {
     "data": {
      "text/plain": "(663, 6.63)"
     },
     "execution_count": 5,
     "metadata": {},
     "output_type": "execute_result"
    }
   ],
   "source": [
    "# Checking the number of NaN values in the 'food mentioned' column\n",
    "nan_count = df_cluster['food mentioned'].isna().sum()\n",
    "total_rows = len(df_cluster)\n",
    "nan_percentage = (nan_count / total_rows) * 100\n",
    "\n",
    "nan_count, nan_percentage\n"
   ]
  },
  {
   "cell_type": "code",
   "execution_count": 6,
   "id": "d8f27c9b4afece9a",
   "metadata": {
    "id": "d8f27c9b4afece9a",
    "ExecuteTime": {
     "end_time": "2023-12-28T00:18:36.307972600Z",
     "start_time": "2023-12-28T00:18:36.244674700Z"
    }
   },
   "outputs": [],
   "source": [
    "df_cluster = df_cluster.dropna()"
   ]
  },
  {
   "cell_type": "code",
   "execution_count": 7,
   "id": "d7bf155e7ff20876",
   "metadata": {
    "id": "d7bf155e7ff20876",
    "outputId": "e55ea87f-e879-4d17-84e9-349d416989ae",
    "ExecuteTime": {
     "end_time": "2023-12-28T00:18:37.067279Z",
     "start_time": "2023-12-28T00:18:37.035906500Z"
    }
   },
   "outputs": [
    {
     "data": {
      "text/plain": "(0, 0.0)"
     },
     "execution_count": 7,
     "metadata": {},
     "output_type": "execute_result"
    }
   ],
   "source": [
    "# Checking the number of NaN values in the 'food mentioned' column\n",
    "nan_count = df_cluster['food mentioned'].isna().sum()\n",
    "total_rows = len(df_cluster)\n",
    "nan_percentage = (nan_count / total_rows) * 100\n",
    "\n",
    "nan_count, nan_percentage"
   ]
  },
  {
   "cell_type": "code",
   "execution_count": 8,
   "id": "4ed0f5ed3ced89b6",
   "metadata": {
    "id": "4ed0f5ed3ced89b6",
    "outputId": "788571ea-b3cc-4329-9db0-520addcff92f",
    "ExecuteTime": {
     "end_time": "2023-12-28T00:18:38.118479Z",
     "start_time": "2023-12-28T00:18:38.055285400Z"
    }
   },
   "outputs": [
    {
     "data": {
      "text/plain": "(9337, 8)"
     },
     "execution_count": 8,
     "metadata": {},
     "output_type": "execute_result"
    }
   ],
   "source": [
    "df_cluster.shape"
   ]
  },
  {
   "cell_type": "markdown",
   "id": "365a45baaa33803e",
   "metadata": {
    "collapsed": false,
    "id": "365a45baaa33803e"
   },
   "source": [
    "## Text Cleaning/ Text Preprocessing"
   ]
  },
  {
   "cell_type": "code",
   "execution_count": 9,
   "id": "7ed22e0e4054faa4",
   "metadata": {
    "id": "7ed22e0e4054faa4",
    "outputId": "20e5f554-4d1a-46bb-9a27-be0d4222ad9f",
    "ExecuteTime": {
     "end_time": "2023-12-28T00:18:39.791917400Z",
     "start_time": "2023-12-28T00:18:39.760307600Z"
    }
   },
   "outputs": [
    {
     "data": {
      "text/plain": "'we landed at the reno airport for our honeymoon in lake tahoe and saw the advertisement for the hash house  despite being tired from the long day and the time difference my eyes lit up with the gigantic portion of food shown in the ad\\n\\ndid not even get the name of the place but said to my wife thats a place to go eat  we were shocked to see it was in our hotel harrahs where we spent the first night and then drive to tahoe the next morning\\n\\nafter scoring coffee next store at starbucks we headed off to breakfast at the hash house  \\n\\ni ordered the machaca and my wife had blackberry granola pancake just one   when the food arrived placed in front of us was enough food to feed the masses  the pancake was larger than the standard plate with a container of syrup pushed into the enormous pancake and the machaca was piled high with shredded beef eggs and a mound of mashed potatoes\\n\\ni managed to finish the eggs beef along with the tortillas but left behind some of the potato  on the other side of the table she had to take more than half of the pancake to go a pizza box was offered  yes a pizza box  \\n\\nthis place is great for the extra hungry famished and should be visited instead of the buffet \\n\\nps we got to nibble on the pancake for two additional days which was like eating granola  blackberry cake'"
     },
     "execution_count": 9,
     "metadata": {},
     "output_type": "execute_result"
    }
   ],
   "source": [
    "df_cluster['text'][0]"
   ]
  },
  {
   "cell_type": "code",
   "execution_count": 10,
   "id": "69c498d2617a40e5",
   "metadata": {
    "id": "69c498d2617a40e5",
    "ExecuteTime": {
     "end_time": "2023-12-28T00:18:41.216238700Z",
     "start_time": "2023-12-28T00:18:41.106383Z"
    }
   },
   "outputs": [],
   "source": [
    "df_cluster['text'] = df['text'].str.lower().replace(r'^\\w\\s', '').replace(r'\\n', '', regex=True)"
   ]
  },
  {
   "cell_type": "code",
   "execution_count": 11,
   "id": "246d9e935c437118",
   "metadata": {
    "id": "246d9e935c437118",
    "outputId": "4e2ee1f9-b388-4b69-d624-66c72200d59c",
    "ExecuteTime": {
     "end_time": "2023-12-28T00:18:42.092529700Z",
     "start_time": "2023-12-28T00:18:41.992447500Z"
    }
   },
   "outputs": [
    {
     "data": {
      "text/plain": "   id_review  stars  useful  funny  cool  \\\n0          0    4.0       0      0     0   \n1          1    4.0      12      3     7   \n2          2    1.0       3      0     0   \n3          3    5.0       4      2     4   \n4          4    5.0       1      0     2   \n\n                                                text  \\\n0  we landed at the reno airport for our honeymoo...   \n1  this atmosphere is certainly geared towards am...   \n2  food and service are key components to enjoy a...   \n3  cyranos is a hidden gem that i wish i had know...   \n4  wow kekes truly impressed me this afternoon  m...   \n\n                                      food mentioned sentiment  \n0  [pizza, egg, beef, cake, coffee, tea, pancake,...  positive  \n1           [pork, shrimp, ribs, bbq, ramen, potato]  positive  \n2                                    [rice, dessert]  negative  \n3       [rice, bread, crab, cake, dessert, cocktail]  positive  \n4                                              [egg]  positive  ",
      "text/html": "<div>\n<style scoped>\n    .dataframe tbody tr th:only-of-type {\n        vertical-align: middle;\n    }\n\n    .dataframe tbody tr th {\n        vertical-align: top;\n    }\n\n    .dataframe thead th {\n        text-align: right;\n    }\n</style>\n<table border=\"1\" class=\"dataframe\">\n  <thead>\n    <tr style=\"text-align: right;\">\n      <th></th>\n      <th>id_review</th>\n      <th>stars</th>\n      <th>useful</th>\n      <th>funny</th>\n      <th>cool</th>\n      <th>text</th>\n      <th>food mentioned</th>\n      <th>sentiment</th>\n    </tr>\n  </thead>\n  <tbody>\n    <tr>\n      <th>0</th>\n      <td>0</td>\n      <td>4.0</td>\n      <td>0</td>\n      <td>0</td>\n      <td>0</td>\n      <td>we landed at the reno airport for our honeymoo...</td>\n      <td>[pizza, egg, beef, cake, coffee, tea, pancake,...</td>\n      <td>positive</td>\n    </tr>\n    <tr>\n      <th>1</th>\n      <td>1</td>\n      <td>4.0</td>\n      <td>12</td>\n      <td>3</td>\n      <td>7</td>\n      <td>this atmosphere is certainly geared towards am...</td>\n      <td>[pork, shrimp, ribs, bbq, ramen, potato]</td>\n      <td>positive</td>\n    </tr>\n    <tr>\n      <th>2</th>\n      <td>2</td>\n      <td>1.0</td>\n      <td>3</td>\n      <td>0</td>\n      <td>0</td>\n      <td>food and service are key components to enjoy a...</td>\n      <td>[rice, dessert]</td>\n      <td>negative</td>\n    </tr>\n    <tr>\n      <th>3</th>\n      <td>3</td>\n      <td>5.0</td>\n      <td>4</td>\n      <td>2</td>\n      <td>4</td>\n      <td>cyranos is a hidden gem that i wish i had know...</td>\n      <td>[rice, bread, crab, cake, dessert, cocktail]</td>\n      <td>positive</td>\n    </tr>\n    <tr>\n      <th>4</th>\n      <td>4</td>\n      <td>5.0</td>\n      <td>1</td>\n      <td>0</td>\n      <td>2</td>\n      <td>wow kekes truly impressed me this afternoon  m...</td>\n      <td>[egg]</td>\n      <td>positive</td>\n    </tr>\n  </tbody>\n</table>\n</div>"
     },
     "execution_count": 11,
     "metadata": {},
     "output_type": "execute_result"
    }
   ],
   "source": [
    "df_cluster.head()"
   ]
  },
  {
   "cell_type": "code",
   "execution_count": 12,
   "id": "2f9f24c0a32d9efa",
   "metadata": {
    "id": "2f9f24c0a32d9efa",
    "ExecuteTime": {
     "end_time": "2023-12-28T00:18:43.596368700Z",
     "start_time": "2023-12-28T00:18:42.771556200Z"
    }
   },
   "outputs": [],
   "source": [
    "df_cluster['food mentioned'] = df_cluster['food mentioned'].astype('string')\n"
   ]
  },
  {
   "cell_type": "code",
   "execution_count": 13,
   "id": "a939371310b76535",
   "metadata": {
    "id": "a939371310b76535",
    "outputId": "501e5ee6-468a-44a9-9cf8-dd8ba66a6bae",
    "ExecuteTime": {
     "end_time": "2023-12-28T00:18:45.872653700Z",
     "start_time": "2023-12-28T00:18:45.668282500Z"
    }
   },
   "outputs": [
    {
     "data": {
      "text/plain": "   id_review  stars  useful  funny  cool  \\\n0          0    4.0       0      0     0   \n1          1    4.0      12      3     7   \n2          2    1.0       3      0     0   \n3          3    5.0       4      2     4   \n4          4    5.0       1      0     2   \n\n                                                text  \\\n0  we landed at the reno airport for our honeymoo...   \n1  this atmosphere is certainly geared towards am...   \n2  food and service are key components to enjoy a...   \n3  cyranos is a hidden gem that i wish i had know...   \n4  wow kekes truly impressed me this afternoon  m...   \n\n                                      food mentioned sentiment  \n0  'pizza' 'egg' 'beef' 'cake' 'coffee' 'tea' 'pa...  positive  \n1      'pork' 'shrimp' 'ribs' 'bbq' 'ramen' 'potato'  positive  \n2                                   'rice' 'dessert'  negative  \n3  'rice' 'bread' 'crab' 'cake' 'dessert' 'cocktail'  positive  \n4                                              'egg'  positive  ",
      "text/html": "<div>\n<style scoped>\n    .dataframe tbody tr th:only-of-type {\n        vertical-align: middle;\n    }\n\n    .dataframe tbody tr th {\n        vertical-align: top;\n    }\n\n    .dataframe thead th {\n        text-align: right;\n    }\n</style>\n<table border=\"1\" class=\"dataframe\">\n  <thead>\n    <tr style=\"text-align: right;\">\n      <th></th>\n      <th>id_review</th>\n      <th>stars</th>\n      <th>useful</th>\n      <th>funny</th>\n      <th>cool</th>\n      <th>text</th>\n      <th>food mentioned</th>\n      <th>sentiment</th>\n    </tr>\n  </thead>\n  <tbody>\n    <tr>\n      <th>0</th>\n      <td>0</td>\n      <td>4.0</td>\n      <td>0</td>\n      <td>0</td>\n      <td>0</td>\n      <td>we landed at the reno airport for our honeymoo...</td>\n      <td>'pizza' 'egg' 'beef' 'cake' 'coffee' 'tea' 'pa...</td>\n      <td>positive</td>\n    </tr>\n    <tr>\n      <th>1</th>\n      <td>1</td>\n      <td>4.0</td>\n      <td>12</td>\n      <td>3</td>\n      <td>7</td>\n      <td>this atmosphere is certainly geared towards am...</td>\n      <td>'pork' 'shrimp' 'ribs' 'bbq' 'ramen' 'potato'</td>\n      <td>positive</td>\n    </tr>\n    <tr>\n      <th>2</th>\n      <td>2</td>\n      <td>1.0</td>\n      <td>3</td>\n      <td>0</td>\n      <td>0</td>\n      <td>food and service are key components to enjoy a...</td>\n      <td>'rice' 'dessert'</td>\n      <td>negative</td>\n    </tr>\n    <tr>\n      <th>3</th>\n      <td>3</td>\n      <td>5.0</td>\n      <td>4</td>\n      <td>2</td>\n      <td>4</td>\n      <td>cyranos is a hidden gem that i wish i had know...</td>\n      <td>'rice' 'bread' 'crab' 'cake' 'dessert' 'cocktail'</td>\n      <td>positive</td>\n    </tr>\n    <tr>\n      <th>4</th>\n      <td>4</td>\n      <td>5.0</td>\n      <td>1</td>\n      <td>0</td>\n      <td>2</td>\n      <td>wow kekes truly impressed me this afternoon  m...</td>\n      <td>'egg'</td>\n      <td>positive</td>\n    </tr>\n  </tbody>\n</table>\n</div>"
     },
     "execution_count": 13,
     "metadata": {},
     "output_type": "execute_result"
    }
   ],
   "source": [
    "# Parsing the 'food_mentioned' column (assuming it contains strings of lists)\n",
    "df_cluster['food mentioned'] = df_cluster['food mentioned'].apply(lambda x: x.strip('[]').split(', '))\n",
    "\n",
    "# Exploding the 'food_mentioned' column\n",
    "df_food = df_cluster.explode('food mentioned')\n",
    "\n",
    "# Show the first few rows of the exploded dataframe to confirm the operation\n",
    "df_food.head()"
   ]
  },
  {
   "cell_type": "code",
   "execution_count": 14,
   "id": "f57a94abda1786db",
   "metadata": {
    "id": "f57a94abda1786db",
    "outputId": "54017aa1-f893-4df8-bf84-b975bb4243f9",
    "ExecuteTime": {
     "end_time": "2023-12-28T00:18:47.471469100Z",
     "start_time": "2023-12-28T00:18:47.330246600Z"
    }
   },
   "outputs": [
    {
     "data": {
      "text/plain": "   id_review  stars  useful  funny  cool  \\\n0          0    4.0       0      0     0   \n1          1    4.0      12      3     7   \n2          2    1.0       3      0     0   \n3          3    5.0       4      2     4   \n4          4    5.0       1      0     2   \n\n                                                text  \\\n0  we landed at the reno airport for our honeymoo...   \n1  this atmosphere is certainly geared towards am...   \n2  food and service are key components to enjoy a...   \n3  cyranos is a hidden gem that i wish i had know...   \n4  wow kekes truly impressed me this afternoon  m...   \n\n                                      food mentioned sentiment  \n0  'pizza' 'egg' 'beef' 'cake' 'coffee' 'tea' 'pa...  positive  \n1      'pork' 'shrimp' 'ribs' 'bbq' 'ramen' 'potato'  positive  \n2                                   'rice' 'dessert'  negative  \n3  'rice' 'bread' 'crab' 'cake' 'dessert' 'cocktail'  positive  \n4                                              'egg'  positive  ",
      "text/html": "<div>\n<style scoped>\n    .dataframe tbody tr th:only-of-type {\n        vertical-align: middle;\n    }\n\n    .dataframe tbody tr th {\n        vertical-align: top;\n    }\n\n    .dataframe thead th {\n        text-align: right;\n    }\n</style>\n<table border=\"1\" class=\"dataframe\">\n  <thead>\n    <tr style=\"text-align: right;\">\n      <th></th>\n      <th>id_review</th>\n      <th>stars</th>\n      <th>useful</th>\n      <th>funny</th>\n      <th>cool</th>\n      <th>text</th>\n      <th>food mentioned</th>\n      <th>sentiment</th>\n    </tr>\n  </thead>\n  <tbody>\n    <tr>\n      <th>0</th>\n      <td>0</td>\n      <td>4.0</td>\n      <td>0</td>\n      <td>0</td>\n      <td>0</td>\n      <td>we landed at the reno airport for our honeymoo...</td>\n      <td>'pizza' 'egg' 'beef' 'cake' 'coffee' 'tea' 'pa...</td>\n      <td>positive</td>\n    </tr>\n    <tr>\n      <th>1</th>\n      <td>1</td>\n      <td>4.0</td>\n      <td>12</td>\n      <td>3</td>\n      <td>7</td>\n      <td>this atmosphere is certainly geared towards am...</td>\n      <td>'pork' 'shrimp' 'ribs' 'bbq' 'ramen' 'potato'</td>\n      <td>positive</td>\n    </tr>\n    <tr>\n      <th>2</th>\n      <td>2</td>\n      <td>1.0</td>\n      <td>3</td>\n      <td>0</td>\n      <td>0</td>\n      <td>food and service are key components to enjoy a...</td>\n      <td>'rice' 'dessert'</td>\n      <td>negative</td>\n    </tr>\n    <tr>\n      <th>3</th>\n      <td>3</td>\n      <td>5.0</td>\n      <td>4</td>\n      <td>2</td>\n      <td>4</td>\n      <td>cyranos is a hidden gem that i wish i had know...</td>\n      <td>'rice' 'bread' 'crab' 'cake' 'dessert' 'cocktail'</td>\n      <td>positive</td>\n    </tr>\n    <tr>\n      <th>4</th>\n      <td>4</td>\n      <td>5.0</td>\n      <td>1</td>\n      <td>0</td>\n      <td>2</td>\n      <td>wow kekes truly impressed me this afternoon  m...</td>\n      <td>'egg'</td>\n      <td>positive</td>\n    </tr>\n  </tbody>\n</table>\n</div>"
     },
     "execution_count": 14,
     "metadata": {},
     "output_type": "execute_result"
    }
   ],
   "source": [
    "df_food.head()"
   ]
  },
  {
   "cell_type": "code",
   "execution_count": 15,
   "id": "6588eeecc67dcc7d",
   "metadata": {
    "id": "6588eeecc67dcc7d",
    "ExecuteTime": {
     "end_time": "2023-12-28T00:18:50.506767200Z",
     "start_time": "2023-12-28T00:18:48.717874900Z"
    }
   },
   "outputs": [],
   "source": [
    "def split_food_and_duplicate_rows(row):\n",
    "    # Splitting the string into a list of foods\n",
    "    foods = row['food mentioned'].replace(\"'\", \"\").split()\n",
    "    return [{**row.to_dict(), 'food mentioned': food} for food in foods]\n",
    "\n",
    "# Applying the function and creating a new DataFrame\n",
    "new_rows = [item for _, row in df_food.iterrows() for item in split_food_and_duplicate_rows(row)]\n",
    "new_df = pd.DataFrame(new_rows)"
   ]
  },
  {
   "cell_type": "code",
   "execution_count": 16,
   "id": "8577a55d214db384",
   "metadata": {
    "id": "8577a55d214db384",
    "outputId": "c56407f1-7a4e-4a26-abae-9f3bbf5a3563",
    "ExecuteTime": {
     "end_time": "2023-12-28T00:18:51.643942600Z",
     "start_time": "2023-12-28T00:18:51.504024600Z"
    }
   },
   "outputs": [
    {
     "data": {
      "text/plain": "       id_review  stars  useful  funny  cool  \\\n0              0    4.0       0      0     0   \n1              0    4.0       0      0     0   \n2              0    4.0       0      0     0   \n3              0    4.0       0      0     0   \n4              0    4.0       0      0     0   \n...          ...    ...     ...    ...   ...   \n33371       9998    5.0       1      0     0   \n33372       9999    3.0       0      0     0   \n33373       9999    3.0       0      0     0   \n33374       9999    3.0       0      0     0   \n33375       9999    3.0       0      0     0   \n\n                                                    text food mentioned  \\\n0      we landed at the reno airport for our honeymoo...          pizza   \n1      we landed at the reno airport for our honeymoo...            egg   \n2      we landed at the reno airport for our honeymoo...           beef   \n3      we landed at the reno airport for our honeymoo...           cake   \n4      we landed at the reno airport for our honeymoo...         coffee   \n...                                                  ...            ...   \n33371  very good salads and amazing mustard the patio...          salad   \n33372  after hearing so many great things about mayna...          steak   \n33373  after hearing so many great things about mayna...         cheese   \n33374  after hearing so many great things about mayna...           wine   \n33375  after hearing so many great things about mayna...            tea   \n\n      sentiment  \n0      positive  \n1      positive  \n2      positive  \n3      positive  \n4      positive  \n...         ...  \n33371  positive  \n33372  positive  \n33373  positive  \n33374  positive  \n33375  positive  \n\n[33376 rows x 8 columns]",
      "text/html": "<div>\n<style scoped>\n    .dataframe tbody tr th:only-of-type {\n        vertical-align: middle;\n    }\n\n    .dataframe tbody tr th {\n        vertical-align: top;\n    }\n\n    .dataframe thead th {\n        text-align: right;\n    }\n</style>\n<table border=\"1\" class=\"dataframe\">\n  <thead>\n    <tr style=\"text-align: right;\">\n      <th></th>\n      <th>id_review</th>\n      <th>stars</th>\n      <th>useful</th>\n      <th>funny</th>\n      <th>cool</th>\n      <th>text</th>\n      <th>food mentioned</th>\n      <th>sentiment</th>\n    </tr>\n  </thead>\n  <tbody>\n    <tr>\n      <th>0</th>\n      <td>0</td>\n      <td>4.0</td>\n      <td>0</td>\n      <td>0</td>\n      <td>0</td>\n      <td>we landed at the reno airport for our honeymoo...</td>\n      <td>pizza</td>\n      <td>positive</td>\n    </tr>\n    <tr>\n      <th>1</th>\n      <td>0</td>\n      <td>4.0</td>\n      <td>0</td>\n      <td>0</td>\n      <td>0</td>\n      <td>we landed at the reno airport for our honeymoo...</td>\n      <td>egg</td>\n      <td>positive</td>\n    </tr>\n    <tr>\n      <th>2</th>\n      <td>0</td>\n      <td>4.0</td>\n      <td>0</td>\n      <td>0</td>\n      <td>0</td>\n      <td>we landed at the reno airport for our honeymoo...</td>\n      <td>beef</td>\n      <td>positive</td>\n    </tr>\n    <tr>\n      <th>3</th>\n      <td>0</td>\n      <td>4.0</td>\n      <td>0</td>\n      <td>0</td>\n      <td>0</td>\n      <td>we landed at the reno airport for our honeymoo...</td>\n      <td>cake</td>\n      <td>positive</td>\n    </tr>\n    <tr>\n      <th>4</th>\n      <td>0</td>\n      <td>4.0</td>\n      <td>0</td>\n      <td>0</td>\n      <td>0</td>\n      <td>we landed at the reno airport for our honeymoo...</td>\n      <td>coffee</td>\n      <td>positive</td>\n    </tr>\n    <tr>\n      <th>...</th>\n      <td>...</td>\n      <td>...</td>\n      <td>...</td>\n      <td>...</td>\n      <td>...</td>\n      <td>...</td>\n      <td>...</td>\n      <td>...</td>\n    </tr>\n    <tr>\n      <th>33371</th>\n      <td>9998</td>\n      <td>5.0</td>\n      <td>1</td>\n      <td>0</td>\n      <td>0</td>\n      <td>very good salads and amazing mustard the patio...</td>\n      <td>salad</td>\n      <td>positive</td>\n    </tr>\n    <tr>\n      <th>33372</th>\n      <td>9999</td>\n      <td>3.0</td>\n      <td>0</td>\n      <td>0</td>\n      <td>0</td>\n      <td>after hearing so many great things about mayna...</td>\n      <td>steak</td>\n      <td>positive</td>\n    </tr>\n    <tr>\n      <th>33373</th>\n      <td>9999</td>\n      <td>3.0</td>\n      <td>0</td>\n      <td>0</td>\n      <td>0</td>\n      <td>after hearing so many great things about mayna...</td>\n      <td>cheese</td>\n      <td>positive</td>\n    </tr>\n    <tr>\n      <th>33374</th>\n      <td>9999</td>\n      <td>3.0</td>\n      <td>0</td>\n      <td>0</td>\n      <td>0</td>\n      <td>after hearing so many great things about mayna...</td>\n      <td>wine</td>\n      <td>positive</td>\n    </tr>\n    <tr>\n      <th>33375</th>\n      <td>9999</td>\n      <td>3.0</td>\n      <td>0</td>\n      <td>0</td>\n      <td>0</td>\n      <td>after hearing so many great things about mayna...</td>\n      <td>tea</td>\n      <td>positive</td>\n    </tr>\n  </tbody>\n</table>\n<p>33376 rows × 8 columns</p>\n</div>"
     },
     "execution_count": 16,
     "metadata": {},
     "output_type": "execute_result"
    }
   ],
   "source": [
    "new_df"
   ]
  },
  {
   "cell_type": "markdown",
   "id": "eb000b2dbf333884",
   "metadata": {
    "collapsed": false,
    "id": "eb000b2dbf333884"
   },
   "source": [
    "## Word2Vec"
   ]
  },
  {
   "cell_type": "code",
   "execution_count": 17,
   "id": "f9d977691e13790a",
   "metadata": {
    "id": "f9d977691e13790a",
    "ExecuteTime": {
     "end_time": "2023-12-28T00:18:54.837114600Z",
     "start_time": "2023-12-28T00:18:54.790054700Z"
    }
   },
   "outputs": [],
   "source": [
    "df_word2vec = new_df.copy()"
   ]
  },
  {
   "cell_type": "code",
   "execution_count": 19,
   "id": "326d5aedb1b7503",
   "metadata": {
    "id": "326d5aedb1b7503",
    "ExecuteTime": {
     "end_time": "2023-12-28T00:22:09.967778400Z",
     "start_time": "2023-12-28T00:22:09.874479500Z"
    }
   },
   "outputs": [
    {
     "name": "stderr",
     "output_type": "stream",
     "text": [
      "[nltk_data] Downloading package punkt to\n",
      "[nltk_data]     C:\\Users\\maria\\AppData\\Roaming\\nltk_data...\n",
      "[nltk_data]   Package punkt is already up-to-date!\n",
      "[nltk_data] Downloading package stopwords to\n",
      "[nltk_data]     C:\\Users\\maria\\AppData\\Roaming\\nltk_data...\n",
      "[nltk_data]   Package stopwords is already up-to-date!\n"
     ]
    },
    {
     "data": {
      "text/plain": "True"
     },
     "execution_count": 19,
     "metadata": {},
     "output_type": "execute_result"
    }
   ],
   "source": [
    "import re\n",
    "from nltk.tokenize import word_tokenize\n",
    "from nltk.corpus import stopwords\n",
    "from nltk.stem import WordNetLemmatizer\n",
    "import nltk\n",
    "from gensim.models import Word2Vec\n",
    "\n",
    "# Download NLTK resources\n",
    "nltk.download('punkt')\n",
    "nltk.download('stopwords')"
   ]
  },
  {
   "cell_type": "code",
   "execution_count": 20,
   "id": "39f6ef8b100a7bd0",
   "metadata": {
    "id": "39f6ef8b100a7bd0",
    "ExecuteTime": {
     "end_time": "2023-12-28T00:22:45.312727500Z",
     "start_time": "2023-12-28T00:22:10.889806100Z"
    }
   },
   "outputs": [],
   "source": [
    "# Apply re.sub to remove non-alphabetic characters\n",
    "df_word2vec['text'] = df_word2vec['text'].apply(lambda x: re.sub(\"[^A-Za-z ]\", \"\", x))\n",
    "\n",
    "# Initialize the WordNetLemmatizer\n",
    "lemmatizer = WordNetLemmatizer()\n",
    "\n",
    "# Apply lemmatization to the 'review_full' column\n",
    "df_word2vec['text'] = df_word2vec['text'].apply(lambda x: ' '.join([lemmatizer.lemmatize(word) for word in x.split()]))\n",
    "\n"
   ]
  },
  {
   "cell_type": "code",
   "execution_count": 21,
   "id": "f10a882373eae4f3",
   "metadata": {
    "id": "f10a882373eae4f3",
    "ExecuteTime": {
     "end_time": "2023-12-28T00:23:07.205154300Z",
     "start_time": "2023-12-28T00:22:47.667140300Z"
    }
   },
   "outputs": [],
   "source": [
    "# Tokenize the text into words\n",
    "df_word2vec['tokenized_text'] =df_word2vec['text'].apply(word_tokenize)"
   ]
  },
  {
   "cell_type": "code",
   "execution_count": 22,
   "id": "265650fed18c4a3c",
   "metadata": {
    "id": "265650fed18c4a3c",
    "ExecuteTime": {
     "end_time": "2023-12-28T00:23:59.293517800Z",
     "start_time": "2023-12-28T00:23:59.214942200Z"
    }
   },
   "outputs": [],
   "source": [
    "custom_stop_words = [\n",
    "    'a', 'about', 'above', 'again', 'against', 'all', 'also', 'am', 'an', 'and', 'any', 'are', 'aren', \"aren't\", 'as', 'at',\n",
    "    'b', 'be', 'because', 'been', 'before', 'being', 'below', 'between', 'both', 'but', 'by', 'c', 'can', 'couldn',\n",
    "    'd', 'did', \"didn't\", 'drink', 'do', 'does', \"doesn't\", 'doing', 'don', \"don't\", 'down', 'during', 'e', 'each',\n",
    "    'few', 'for', 'from', 'further', 'g', 'h', 'had', \"hadn't\", 'has', \"hasn't\", 'have', 'haven', \"haven't\", 'having',\n",
    "    'he', 'her', 'here', 'hers', 'herself', 'him', 'himself', 'his', 'how', 'i', 'if', 'in', 'into', 'is', 'isn', \"isn't\",\n",
    "    'it', \"it's\", 'its', 'itself', 'j', 'just', 'k', 'l', 'last' 'lot', 'lots','list', 'll', 'm', 'ma', 'me', 'mightn', 'more', 'most',\n",
    "    'mustn', \"mustn't\", 'my', 'myself', 'n', 'neg', 'no', 'nor', 'not', 'now', 'o', 'of', 'off', 'on', 'once', 'only', 'or',\n",
    "    'other', 'our', 'ours', 'ourselves', 'out', 'over', 'own', 'p', 'q', 'r', 're', 's', 'same', 'shan', \"shan't\", 'she',\n",
    "    \"she's\", 'should', \"should've\", 'shouldn', \"shouldn't\", 'so', 'some', 'such', 't', 'than', 'that', \"that'll\", 'the',\n",
    "    'their', 'theirs', 'them', 'themselves', 'then', 'there', 'these', 'they', 'this', 'those', 'through', 'to', 'too',\n",
    "    'u', 'under', 'until', 'up', 'v', 'very', 'w', 'was', 'wasn', 'we', 'were', 'weren', 'what',\n",
    "    'when', 'where', 'which', 'while', 'who', 'whom', 'why', 'will', 'with', 'won', 'would', \"won't\", 'wouldn', 't', 'y',\n",
    "    'you',  \"youre\", \"youve\", 'your', 'yours', 'yourself', 'yourselves', 'z'\n",
    "]"
   ]
  },
  {
   "cell_type": "code",
   "execution_count": 23,
   "id": "6f846fb30e2817ad",
   "metadata": {
    "id": "6f846fb30e2817ad",
    "ExecuteTime": {
     "end_time": "2023-12-28T00:24:15.556867100Z",
     "start_time": "2023-12-28T00:24:00.598367800Z"
    }
   },
   "outputs": [],
   "source": [
    "df_word2vec['tokenized_text'] = df_word2vec['tokenized_text'].apply(lambda x: [word for word in x if word.lower() not in custom_stop_words])"
   ]
  },
  {
   "cell_type": "code",
   "execution_count": 24,
   "id": "34b8cbf2c2f0018d",
   "metadata": {
    "id": "34b8cbf2c2f0018d",
    "ExecuteTime": {
     "end_time": "2023-12-28T00:24:36.331826300Z",
     "start_time": "2023-12-28T00:24:19.881859400Z"
    }
   },
   "outputs": [],
   "source": [
    "# Train Word2Vec model using the 'tokenized_text' column\n",
    "model = Word2Vec(sentences=df_word2vec['tokenized_text'], min_count=2, workers=4)"
   ]
  },
  {
   "cell_type": "code",
   "execution_count": 25,
   "id": "9bb72a6fa88c56d7",
   "metadata": {
    "id": "9bb72a6fa88c56d7",
    "ExecuteTime": {
     "end_time": "2023-12-28T00:24:38.347886Z",
     "start_time": "2023-12-28T00:24:38.311263800Z"
    }
   },
   "outputs": [],
   "source": [
    "def rec(target_word):\n",
    "    similar_words = model.wv.most_similar(target_word, topn=5)\n",
    "    print(f\"Similar words to {target_word}:\")\n",
    "    for word, _ in similar_words:\n",
    "        similar = print(f\"{word}\")\n",
    "    return similar"
   ]
  },
  {
   "cell_type": "code",
   "execution_count": 31,
   "id": "c464f26d45e5f565",
   "metadata": {
    "id": "c464f26d45e5f565",
    "outputId": "93408b12-d461-4679-d728-732dea00c831",
    "ExecuteTime": {
     "end_time": "2023-12-28T00:25:09.910738700Z",
     "start_time": "2023-12-28T00:25:09.831969500Z"
    }
   },
   "outputs": [
    {
     "name": "stdout",
     "output_type": "stream",
     "text": [
      "Similar words to pizza:\n",
      "pepperoni\n",
      "crust\n",
      "breadstick\n",
      "calzone\n",
      "margherita\n"
     ]
    }
   ],
   "source": [
    "rec('pizza')"
   ]
  }
 ],
 "metadata": {
  "kernelspec": {
   "display_name": "Python 3",
   "language": "python",
   "name": "python3"
  },
  "language_info": {
   "codemirror_mode": {
    "name": "ipython",
    "version": 2
   },
   "file_extension": ".py",
   "mimetype": "text/x-python",
   "name": "python",
   "nbconvert_exporter": "python",
   "pygments_lexer": "ipython2",
   "version": "2.7.6"
  },
  "colab": {
   "provenance": []
  }
 },
 "nbformat": 4,
 "nbformat_minor": 5
}
