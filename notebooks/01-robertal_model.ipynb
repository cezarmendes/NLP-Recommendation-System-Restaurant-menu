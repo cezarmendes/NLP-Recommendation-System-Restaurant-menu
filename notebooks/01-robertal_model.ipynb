{
 "cells": [
  {
   "cell_type": "markdown",
   "id": "ca7cfef276073266",
   "metadata": {
    "collapsed": false
   },
   "source": [
    "# Yelp System Menu - Reviews\n",
    "\n",
    "https://medium.com/locally-optimal/yelp-open-dataset-a-new-version-is-available-6c3a83bddd\n",
    "\n",
    "https://www.kaggle.com/datasets/yelp-dataset/yelp-dataset\n",
    "\n",
    "https://www.yelp.com/dataset/documentation/main"
   ]
  },
  {
   "cell_type": "markdown",
   "id": "e6f01069c094dc78",
   "metadata": {
    "collapsed": false
   },
   "source": [
    "## Loading Packages and Dataset"
   ]
  },
  {
   "cell_type": "code",
   "execution_count": 31,
   "id": "initial_id",
   "metadata": {
    "ExecuteTime": {
     "end_time": "2023-11-20T13:46:10.757880300Z",
     "start_time": "2023-11-20T13:46:10.742913400Z"
    },
    "collapsed": true
   },
   "outputs": [],
   "source": [
    "# Imports\n",
    "import pandas as pd\n",
    "import numpy as np\n",
    "import spacy\n",
    "import json\n",
    "import re\n",
    "import matplotlib.pyplot as plt\n",
    "import seaborn as sns\n",
    "import nltk\n",
    "import tqdm\n",
    "from transformers import AutoTokenizer\n",
    "from transformers import AutoModelForSequenceClassification\n",
    "from scipy.special import softmax\n",
    "from tqdm import tqdm\n",
    "\n",
    "\n",
    "plt.style.use('ggplot')\n",
    "%matplotlib inline"
   ]
  },
  {
   "cell_type": "code",
   "execution_count": 32,
   "id": "bacb1ba1dea68",
   "metadata": {
    "ExecuteTime": {
     "end_time": "2023-11-20T13:46:19.273866900Z",
     "start_time": "2023-11-20T13:46:14.034687300Z"
    },
    "collapsed": false
   },
   "outputs": [],
   "source": [
    "# Loading dataset\n",
    "df = pd.read_parquet('file/yelp_food_df.parquet')"
   ]
  },
  {
   "cell_type": "code",
   "execution_count": 33,
   "id": "2a181ca9ceecca38",
   "metadata": {
    "ExecuteTime": {
     "end_time": "2023-11-20T13:46:20.020569900Z",
     "start_time": "2023-11-20T13:46:19.998152800Z"
    },
    "collapsed": false
   },
   "outputs": [
    {
     "data": {
      "text/html": [
       "<div>\n",
       "<style scoped>\n",
       "    .dataframe tbody tr th:only-of-type {\n",
       "        vertical-align: middle;\n",
       "    }\n",
       "\n",
       "    .dataframe tbody tr th {\n",
       "        vertical-align: top;\n",
       "    }\n",
       "\n",
       "    .dataframe thead th {\n",
       "        text-align: right;\n",
       "    }\n",
       "</style>\n",
       "<table border=\"1\" class=\"dataframe\">\n",
       "  <thead>\n",
       "    <tr style=\"text-align: right;\">\n",
       "      <th></th>\n",
       "      <th>stars</th>\n",
       "      <th>useful</th>\n",
       "      <th>funny</th>\n",
       "      <th>cool</th>\n",
       "      <th>text</th>\n",
       "    </tr>\n",
       "  </thead>\n",
       "  <tbody>\n",
       "    <tr>\n",
       "      <th>2</th>\n",
       "      <td>3.0</td>\n",
       "      <td>0</td>\n",
       "      <td>0</td>\n",
       "      <td>0</td>\n",
       "      <td>Family diner. Had the buffet. Eclectic assortm...</td>\n",
       "    </tr>\n",
       "    <tr>\n",
       "      <th>3</th>\n",
       "      <td>5.0</td>\n",
       "      <td>1</td>\n",
       "      <td>0</td>\n",
       "      <td>1</td>\n",
       "      <td>Wow!  Yummy, different,  delicious.   Our favo...</td>\n",
       "    </tr>\n",
       "    <tr>\n",
       "      <th>4</th>\n",
       "      <td>4.0</td>\n",
       "      <td>1</td>\n",
       "      <td>0</td>\n",
       "      <td>1</td>\n",
       "      <td>Cute interior and owner (?) gave us tour of up...</td>\n",
       "    </tr>\n",
       "    <tr>\n",
       "      <th>9</th>\n",
       "      <td>3.0</td>\n",
       "      <td>0</td>\n",
       "      <td>0</td>\n",
       "      <td>0</td>\n",
       "      <td>Had a party of 6 here for hibachi. Our waitres...</td>\n",
       "    </tr>\n",
       "    <tr>\n",
       "      <th>10</th>\n",
       "      <td>5.0</td>\n",
       "      <td>2</td>\n",
       "      <td>0</td>\n",
       "      <td>0</td>\n",
       "      <td>My experience with Shalimar was nothing but wo...</td>\n",
       "    </tr>\n",
       "  </tbody>\n",
       "</table>\n",
       "</div>"
      ],
      "text/plain": [
       "    stars  useful  funny  cool  \\\n",
       "2     3.0       0      0     0   \n",
       "3     5.0       1      0     1   \n",
       "4     4.0       1      0     1   \n",
       "9     3.0       0      0     0   \n",
       "10    5.0       2      0     0   \n",
       "\n",
       "                                                 text  \n",
       "2   Family diner. Had the buffet. Eclectic assortm...  \n",
       "3   Wow!  Yummy, different,  delicious.   Our favo...  \n",
       "4   Cute interior and owner (?) gave us tour of up...  \n",
       "9   Had a party of 6 here for hibachi. Our waitres...  \n",
       "10  My experience with Shalimar was nothing but wo...  "
      ]
     },
     "execution_count": 33,
     "metadata": {},
     "output_type": "execute_result"
    }
   ],
   "source": [
    "df.head()"
   ]
  },
  {
   "cell_type": "markdown",
   "id": "29bbe148435a3fe4",
   "metadata": {
    "collapsed": false
   },
   "source": [
    "## Preprocessing"
   ]
  },
  {
   "cell_type": "code",
   "execution_count": 34,
   "id": "24c29eb6b36a22ee",
   "metadata": {
    "ExecuteTime": {
     "end_time": "2023-11-20T13:46:49.435999700Z",
     "start_time": "2023-11-20T13:46:22.605443400Z"
    },
    "collapsed": false
   },
   "outputs": [
    {
     "data": {
      "text/plain": [
       "2     family diner had the buffet eclectic assortmen...\n",
       "3     wow  yummy different  delicious   our favorite...\n",
       "4     cute interior and owner  gave us tour of upcom...\n",
       "9     had a party of  here for hibachi our waitress ...\n",
       "10    my experience with shalimar was nothing but wo...\n",
       "Name: text, dtype: object"
      ]
     },
     "execution_count": 34,
     "metadata": {},
     "output_type": "execute_result"
    }
   ],
   "source": [
    "# Preprocess the 'review_full' column\n",
    "df['text'] = df['text'].astype(str).apply(lambda x: re.sub(r'[^a-zA-Z\\s]', '', x).lower())\n",
    "\n",
    "# Display the first few rows of the cleaned reviews\n",
    "df['text'].head()"
   ]
  },
  {
   "cell_type": "code",
   "execution_count": 35,
   "id": "1b28e8f8cdc0cb4d",
   "metadata": {
    "ExecuteTime": {
     "end_time": "2023-11-20T13:46:49.676420200Z",
     "start_time": "2023-11-20T13:46:49.430288600Z"
    },
    "collapsed": false
   },
   "outputs": [],
   "source": [
    "# Create index\n",
    "df = df.reset_index()\n",
    "df = df.rename(columns={'index': 'id'})"
   ]
  },
  {
   "cell_type": "code",
   "execution_count": 36,
   "id": "b3cb05fcce7df1aa",
   "metadata": {
    "ExecuteTime": {
     "end_time": "2023-11-20T13:46:49.700668500Z",
     "start_time": "2023-11-20T13:46:49.677422500Z"
    },
    "collapsed": false
   },
   "outputs": [
    {
     "data": {
      "text/html": [
       "<div>\n",
       "<style scoped>\n",
       "    .dataframe tbody tr th:only-of-type {\n",
       "        vertical-align: middle;\n",
       "    }\n",
       "\n",
       "    .dataframe tbody tr th {\n",
       "        vertical-align: top;\n",
       "    }\n",
       "\n",
       "    .dataframe thead th {\n",
       "        text-align: right;\n",
       "    }\n",
       "</style>\n",
       "<table border=\"1\" class=\"dataframe\">\n",
       "  <thead>\n",
       "    <tr style=\"text-align: right;\">\n",
       "      <th></th>\n",
       "      <th>id</th>\n",
       "      <th>stars</th>\n",
       "      <th>useful</th>\n",
       "      <th>funny</th>\n",
       "      <th>cool</th>\n",
       "      <th>text</th>\n",
       "    </tr>\n",
       "  </thead>\n",
       "  <tbody>\n",
       "    <tr>\n",
       "      <th>0</th>\n",
       "      <td>2</td>\n",
       "      <td>3.0</td>\n",
       "      <td>0</td>\n",
       "      <td>0</td>\n",
       "      <td>0</td>\n",
       "      <td>family diner had the buffet eclectic assortmen...</td>\n",
       "    </tr>\n",
       "    <tr>\n",
       "      <th>1</th>\n",
       "      <td>3</td>\n",
       "      <td>5.0</td>\n",
       "      <td>1</td>\n",
       "      <td>0</td>\n",
       "      <td>1</td>\n",
       "      <td>wow  yummy different  delicious   our favorite...</td>\n",
       "    </tr>\n",
       "    <tr>\n",
       "      <th>2</th>\n",
       "      <td>4</td>\n",
       "      <td>4.0</td>\n",
       "      <td>1</td>\n",
       "      <td>0</td>\n",
       "      <td>1</td>\n",
       "      <td>cute interior and owner  gave us tour of upcom...</td>\n",
       "    </tr>\n",
       "    <tr>\n",
       "      <th>3</th>\n",
       "      <td>9</td>\n",
       "      <td>3.0</td>\n",
       "      <td>0</td>\n",
       "      <td>0</td>\n",
       "      <td>0</td>\n",
       "      <td>had a party of  here for hibachi our waitress ...</td>\n",
       "    </tr>\n",
       "    <tr>\n",
       "      <th>4</th>\n",
       "      <td>10</td>\n",
       "      <td>5.0</td>\n",
       "      <td>2</td>\n",
       "      <td>0</td>\n",
       "      <td>0</td>\n",
       "      <td>my experience with shalimar was nothing but wo...</td>\n",
       "    </tr>\n",
       "    <tr>\n",
       "      <th>5</th>\n",
       "      <td>12</td>\n",
       "      <td>4.0</td>\n",
       "      <td>0</td>\n",
       "      <td>0</td>\n",
       "      <td>0</td>\n",
       "      <td>love going here for happy hour or dinner  grea...</td>\n",
       "    </tr>\n",
       "    <tr>\n",
       "      <th>6</th>\n",
       "      <td>13</td>\n",
       "      <td>4.0</td>\n",
       "      <td>0</td>\n",
       "      <td>0</td>\n",
       "      <td>0</td>\n",
       "      <td>good foodloved the gnocchi with marinara\\nthe ...</td>\n",
       "    </tr>\n",
       "    <tr>\n",
       "      <th>7</th>\n",
       "      <td>14</td>\n",
       "      <td>4.0</td>\n",
       "      <td>0</td>\n",
       "      <td>2</td>\n",
       "      <td>0</td>\n",
       "      <td>the bun makes the sonoran dog its like a snugg...</td>\n",
       "    </tr>\n",
       "    <tr>\n",
       "      <th>8</th>\n",
       "      <td>17</td>\n",
       "      <td>4.0</td>\n",
       "      <td>1</td>\n",
       "      <td>0</td>\n",
       "      <td>0</td>\n",
       "      <td>the hubby and i have been here on multiple occ...</td>\n",
       "    </tr>\n",
       "    <tr>\n",
       "      <th>9</th>\n",
       "      <td>19</td>\n",
       "      <td>5.0</td>\n",
       "      <td>0</td>\n",
       "      <td>0</td>\n",
       "      <td>0</td>\n",
       "      <td>my absolute favorite cafe in the city their bl...</td>\n",
       "    </tr>\n",
       "  </tbody>\n",
       "</table>\n",
       "</div>"
      ],
      "text/plain": [
       "   id  stars  useful  funny  cool  \\\n",
       "0   2    3.0       0      0     0   \n",
       "1   3    5.0       1      0     1   \n",
       "2   4    4.0       1      0     1   \n",
       "3   9    3.0       0      0     0   \n",
       "4  10    5.0       2      0     0   \n",
       "5  12    4.0       0      0     0   \n",
       "6  13    4.0       0      0     0   \n",
       "7  14    4.0       0      2     0   \n",
       "8  17    4.0       1      0     0   \n",
       "9  19    5.0       0      0     0   \n",
       "\n",
       "                                                text  \n",
       "0  family diner had the buffet eclectic assortmen...  \n",
       "1  wow  yummy different  delicious   our favorite...  \n",
       "2  cute interior and owner  gave us tour of upcom...  \n",
       "3  had a party of  here for hibachi our waitress ...  \n",
       "4  my experience with shalimar was nothing but wo...  \n",
       "5  love going here for happy hour or dinner  grea...  \n",
       "6  good foodloved the gnocchi with marinara\\nthe ...  \n",
       "7  the bun makes the sonoran dog its like a snugg...  \n",
       "8  the hubby and i have been here on multiple occ...  \n",
       "9  my absolute favorite cafe in the city their bl...  "
      ]
     },
     "execution_count": 36,
     "metadata": {},
     "output_type": "execute_result"
    }
   ],
   "source": [
    "df.head(10)"
   ]
  },
  {
   "cell_type": "markdown",
   "id": "107987d7577a6f21",
   "metadata": {
    "collapsed": false
   },
   "source": [
    "## Sentiment Analysis"
   ]
  },
  {
   "cell_type": "code",
   "execution_count": 37,
   "id": "ba2efcd3c8874ac9",
   "metadata": {
    "ExecuteTime": {
     "end_time": "2023-11-20T13:47:09.718192900Z",
     "start_time": "2023-11-20T13:47:09.626753900Z"
    },
    "collapsed": false
   },
   "outputs": [],
   "source": [
    "df_sample = df.sample(10000)"
   ]
  },
  {
   "cell_type": "code",
   "execution_count": 38,
   "id": "7330a4a92558da2c",
   "metadata": {
    "ExecuteTime": {
     "end_time": "2023-11-20T13:47:11.598623Z",
     "start_time": "2023-11-20T13:47:11.590981400Z"
    },
    "collapsed": false
   },
   "outputs": [
    {
     "data": {
      "text/plain": [
       "(10000, 6)"
      ]
     },
     "execution_count": 38,
     "metadata": {},
     "output_type": "execute_result"
    }
   ],
   "source": [
    "df_sample.shape"
   ]
  },
  {
   "cell_type": "code",
   "execution_count": 39,
   "id": "d264eae5c311e5b",
   "metadata": {
    "ExecuteTime": {
     "end_time": "2023-11-20T13:47:29.882813900Z",
     "start_time": "2023-11-20T13:47:29.877583300Z"
    },
    "collapsed": false
   },
   "outputs": [],
   "source": [
    "del df"
   ]
  },
  {
   "cell_type": "code",
   "execution_count": 40,
   "id": "ed4b75a78b53814",
   "metadata": {
    "ExecuteTime": {
     "end_time": "2023-11-20T13:47:47.683578300Z",
     "start_time": "2023-11-20T13:47:47.550092300Z"
    },
    "collapsed": false
   },
   "outputs": [
    {
     "data": {
      "image/png": "[encoded data removed]",
      "text/plain": [
       "<Figure size 1000x500 with 1 Axes>"
      ]
     },
     "metadata": {},
     "output_type": "display_data"
    }
   ],
   "source": [
    "ax = df_sample['stars'].value_counts().sort_index()\\\n",
    "    .plot(kind='bar',\n",
    "          title='Count of Reviews by Stars',\n",
    "          figsize=(10,5))\n",
    "ax.set(xlabel='Stars', ylabel='Count')\n",
    "plt.show()"
   ]
  },
  {
   "cell_type": "markdown",
   "id": "da5c47485dac41c2",
   "metadata": {
    "collapsed": false
   },
   "source": [
    "### Roberta Pre Trained Model"
   ]
  },
  {
   "cell_type": "code",
   "execution_count": 41,
   "id": "790a3bbcd5034ce0",
   "metadata": {
    "ExecuteTime": {
     "end_time": "2023-11-20T13:47:52.803275800Z",
     "start_time": "2023-11-20T13:47:51.366285600Z"
    },
    "collapsed": false
   },
   "outputs": [],
   "source": [
    "MODEL = f\"cardiffnlp/twitter-roberta-base-sentiment\"\n",
    "tokenizer = AutoTokenizer.from_pretrained(MODEL)\n",
    "model = AutoModelForSequenceClassification.from_pretrained(MODEL)"
   ]
  },
  {
   "cell_type": "code",
   "execution_count": null,
   "id": "19c453b39405468c",
   "metadata": {
    "collapsed": false
   },
   "outputs": [],
   "source": [
    "#tokens = nltk.word_tokenize(example)\n",
    "#tokens[:10]"
   ]
  },
  {
   "cell_type": "code",
   "execution_count": 45,
   "id": "a451876ff0a5b6c6",
   "metadata": {
    "ExecuteTime": {
     "end_time": "2023-11-20T13:50:47.542765900Z",
     "start_time": "2023-11-20T13:50:47.516558500Z"
    },
    "collapsed": false
   },
   "outputs": [],
   "source": [
    "# Define the function\n",
    "def polarity_scores_roberta(example):\n",
    "    encoded_text = tokenizer(example, return_tensors='pt', truncation=True, max_length=512)\n",
    "    output = model(**encoded_text)\n",
    "    scores = output[0][0].detach().numpy()\n",
    "    scores = softmax(scores)\n",
    "    return {'negative': scores[0], 'neutral': scores[1], 'positive': scores[2]}"
   ]
  },
  {
   "cell_type": "code",
   "execution_count": 46,
   "id": "615c6f8454060551",
   "metadata": {
    "ExecuteTime": {
     "end_time": "2023-11-21T05:31:30.375348100Z",
     "start_time": "2023-11-20T13:50:50.968984800Z"
    },
    "collapsed": false
   },
   "outputs": [
    {
     "name": "stdout",
     "output_type": "stream",
     "text": [
      "CPU times: total: 1d 15h 22min 45s\n",
      "Wall time: 15h 40min 39s\n"
     ]
    }
   ],
   "source": [
    "%%time\n",
    "# Apply the function to each row\n",
    "df_sample['sentiment'] = df_sample['text'].apply(polarity_scores_roberta)"
   ]
  },
  {
   "cell_type": "code",
   "execution_count": 47,
   "id": "f5c884a4f7689aaa",
   "metadata": {
    "ExecuteTime": {
     "end_time": "2023-11-21T11:16:18.031611800Z",
     "start_time": "2023-11-21T11:16:18.017289800Z"
    },
    "collapsed": false
   },
   "outputs": [
    {
     "data": {
      "text/html": [
       "<div>\n",
       "<style scoped>\n",
       "    .dataframe tbody tr th:only-of-type {\n",
       "        vertical-align: middle;\n",
       "    }\n",
       "\n",
       "    .dataframe tbody tr th {\n",
       "        vertical-align: top;\n",
       "    }\n",
       "\n",
       "    .dataframe thead th {\n",
       "        text-align: right;\n",
       "    }\n",
       "</style>\n",
       "<table border=\"1\" class=\"dataframe\">\n",
       "  <thead>\n",
       "    <tr style=\"text-align: right;\">\n",
       "      <th></th>\n",
       "      <th>id</th>\n",
       "      <th>stars</th>\n",
       "      <th>useful</th>\n",
       "      <th>funny</th>\n",
       "      <th>cool</th>\n",
       "      <th>text</th>\n",
       "      <th>sentiment</th>\n",
       "    </tr>\n",
       "  </thead>\n",
       "  <tbody>\n",
       "    <tr>\n",
       "      <th>1251197</th>\n",
       "      <td>2980811</td>\n",
       "      <td>4.0</td>\n",
       "      <td>0</td>\n",
       "      <td>0</td>\n",
       "      <td>0</td>\n",
       "      <td>we landed at the reno airport for our honeymoo...</td>\n",
       "      <td>{'negative': 0.03076893, 'neutral': 0.24498378...</td>\n",
       "    </tr>\n",
       "    <tr>\n",
       "      <th>197231</th>\n",
       "      <td>467079</td>\n",
       "      <td>4.0</td>\n",
       "      <td>12</td>\n",
       "      <td>3</td>\n",
       "      <td>7</td>\n",
       "      <td>this atmosphere is certainly geared towards am...</td>\n",
       "      <td>{'negative': 0.032657385, 'neutral': 0.1757533...</td>\n",
       "    </tr>\n",
       "    <tr>\n",
       "      <th>226443</th>\n",
       "      <td>543661</td>\n",
       "      <td>1.0</td>\n",
       "      <td>3</td>\n",
       "      <td>0</td>\n",
       "      <td>0</td>\n",
       "      <td>food and service are key components to enjoy a...</td>\n",
       "      <td>{'negative': 0.89177763, 'neutral': 0.09713327...</td>\n",
       "    </tr>\n",
       "    <tr>\n",
       "      <th>263340</th>\n",
       "      <td>638958</td>\n",
       "      <td>5.0</td>\n",
       "      <td>4</td>\n",
       "      <td>2</td>\n",
       "      <td>4</td>\n",
       "      <td>cyranos is a hidden gem that i wish i had know...</td>\n",
       "      <td>{'negative': 0.0024086738, 'neutral': 0.013464...</td>\n",
       "    </tr>\n",
       "    <tr>\n",
       "      <th>151897</th>\n",
       "      <td>352283</td>\n",
       "      <td>5.0</td>\n",
       "      <td>1</td>\n",
       "      <td>0</td>\n",
       "      <td>2</td>\n",
       "      <td>wow kekes truly impressed me this afternoon  m...</td>\n",
       "      <td>{'negative': 0.002309262, 'neutral': 0.0097565...</td>\n",
       "    </tr>\n",
       "  </tbody>\n",
       "</table>\n",
       "</div>"
      ],
      "text/plain": [
       "              id  stars  useful  funny  cool  \\\n",
       "1251197  2980811    4.0       0      0     0   \n",
       "197231    467079    4.0      12      3     7   \n",
       "226443    543661    1.0       3      0     0   \n",
       "263340    638958    5.0       4      2     4   \n",
       "151897    352283    5.0       1      0     2   \n",
       "\n",
       "                                                      text  \\\n",
       "1251197  we landed at the reno airport for our honeymoo...   \n",
       "197231   this atmosphere is certainly geared towards am...   \n",
       "226443   food and service are key components to enjoy a...   \n",
       "263340   cyranos is a hidden gem that i wish i had know...   \n",
       "151897   wow kekes truly impressed me this afternoon  m...   \n",
       "\n",
       "                                                 sentiment  \n",
       "1251197  {'negative': 0.03076893, 'neutral': 0.24498378...  \n",
       "197231   {'negative': 0.032657385, 'neutral': 0.1757533...  \n",
       "226443   {'negative': 0.89177763, 'neutral': 0.09713327...  \n",
       "263340   {'negative': 0.0024086738, 'neutral': 0.013464...  \n",
       "151897   {'negative': 0.002309262, 'neutral': 0.0097565...  "
      ]
     },
     "execution_count": 47,
     "metadata": {},
     "output_type": "execute_result"
    }
   ],
   "source": [
    "df_sample.head()"
   ]
  },
  {
   "cell_type": "code",
   "execution_count": 54,
   "id": "81ab3b94769e2517",
   "metadata": {
    "ExecuteTime": {
     "end_time": "2023-11-21T12:43:42.715899900Z",
     "start_time": "2023-11-21T12:43:42.699726100Z"
    },
    "collapsed": false
   },
   "outputs": [
    {
     "data": {
      "text/plain": [
       "(10000, 7)"
      ]
     },
     "execution_count": 54,
     "metadata": {},
     "output_type": "execute_result"
    }
   ],
   "source": [
    "df_sample.shape"
   ]
  },
  {
   "cell_type": "code",
   "execution_count": 48,
   "id": "1bf71a5c4b2b65d1",
   "metadata": {
    "ExecuteTime": {
     "end_time": "2023-11-21T11:18:16.012918100Z",
     "start_time": "2023-11-21T11:18:15.793914200Z"
    },
    "collapsed": false
   },
   "outputs": [],
   "source": [
    "df_sample.to_parquet('file/yelp_food_df_sample_roberta.parquet')"
   ]
  },
  {
   "cell_type": "code",
   "execution_count": 49,
   "id": "52b37e6f6fdb564e",
   "metadata": {
    "ExecuteTime": {
     "end_time": "2023-11-21T11:20:32.658135Z",
     "start_time": "2023-11-21T11:20:32.587859700Z"
    },
    "collapsed": false
   },
   "outputs": [],
   "source": [
    "df_sample.to_parquet('yelp_food_df_sample_roberta.parquet', engine='pyarrow')"
   ]
  },
  {
   "cell_type": "code",
   "execution_count": 50,
   "id": "eaae5cd138299516",
   "metadata": {
    "ExecuteTime": {
     "end_time": "2023-11-21T11:21:05.122273700Z",
     "start_time": "2023-11-21T11:21:04.957592800Z"
    },
    "collapsed": false
   },
   "outputs": [],
   "source": [
    "df_sample.to_csv('yelp_food_sentiment_df_sample_roberta.csv', index=False)"
   ]
  },
  {
   "cell_type": "code",
   "execution_count": 29,
   "id": "751c9f0be52c7e11",
   "metadata": {
    "ExecuteTime": {
     "end_time": "2023-11-20T13:43:41.536226200Z",
     "start_time": "2023-11-20T13:43:40.851744300Z"
    },
    "collapsed": false
   },
   "outputs": [],
   "source": [
    " #  Empty memory\n",
    " #%reset -f"
   ]
  },
  {
   "cell_type": "code",
   "execution_count": 51,
   "id": "66ab57afdcb2d4c",
   "metadata": {
    "ExecuteTime": {
     "end_time": "2023-11-21T11:21:33.215482300Z",
     "start_time": "2023-11-21T11:21:33.167147300Z"
    },
    "collapsed": false
   },
   "outputs": [
    {
     "data": {
      "text/html": [
       "<div>\n",
       "<style scoped>\n",
       "    .dataframe tbody tr th:only-of-type {\n",
       "        vertical-align: middle;\n",
       "    }\n",
       "\n",
       "    .dataframe tbody tr th {\n",
       "        vertical-align: top;\n",
       "    }\n",
       "\n",
       "    .dataframe thead th {\n",
       "        text-align: right;\n",
       "    }\n",
       "</style>\n",
       "<table border=\"1\" class=\"dataframe\">\n",
       "  <thead>\n",
       "    <tr style=\"text-align: right;\">\n",
       "      <th></th>\n",
       "      <th>id</th>\n",
       "      <th>stars</th>\n",
       "      <th>useful</th>\n",
       "      <th>funny</th>\n",
       "      <th>cool</th>\n",
       "      <th>text</th>\n",
       "      <th>sentiment</th>\n",
       "    </tr>\n",
       "  </thead>\n",
       "  <tbody>\n",
       "    <tr>\n",
       "      <th>1251197</th>\n",
       "      <td>2980811</td>\n",
       "      <td>4.0</td>\n",
       "      <td>0</td>\n",
       "      <td>0</td>\n",
       "      <td>0</td>\n",
       "      <td>we landed at the reno airport for our honeymoo...</td>\n",
       "      <td>{'negative': 0.03076893, 'neutral': 0.24498378...</td>\n",
       "    </tr>\n",
       "    <tr>\n",
       "      <th>197231</th>\n",
       "      <td>467079</td>\n",
       "      <td>4.0</td>\n",
       "      <td>12</td>\n",
       "      <td>3</td>\n",
       "      <td>7</td>\n",
       "      <td>this atmosphere is certainly geared towards am...</td>\n",
       "      <td>{'negative': 0.032657385, 'neutral': 0.1757533...</td>\n",
       "    </tr>\n",
       "    <tr>\n",
       "      <th>226443</th>\n",
       "      <td>543661</td>\n",
       "      <td>1.0</td>\n",
       "      <td>3</td>\n",
       "      <td>0</td>\n",
       "      <td>0</td>\n",
       "      <td>food and service are key components to enjoy a...</td>\n",
       "      <td>{'negative': 0.89177763, 'neutral': 0.09713327...</td>\n",
       "    </tr>\n",
       "    <tr>\n",
       "      <th>263340</th>\n",
       "      <td>638958</td>\n",
       "      <td>5.0</td>\n",
       "      <td>4</td>\n",
       "      <td>2</td>\n",
       "      <td>4</td>\n",
       "      <td>cyranos is a hidden gem that i wish i had know...</td>\n",
       "      <td>{'negative': 0.0024086738, 'neutral': 0.013464...</td>\n",
       "    </tr>\n",
       "    <tr>\n",
       "      <th>151897</th>\n",
       "      <td>352283</td>\n",
       "      <td>5.0</td>\n",
       "      <td>1</td>\n",
       "      <td>0</td>\n",
       "      <td>2</td>\n",
       "      <td>wow kekes truly impressed me this afternoon  m...</td>\n",
       "      <td>{'negative': 0.002309262, 'neutral': 0.0097565...</td>\n",
       "    </tr>\n",
       "    <tr>\n",
       "      <th>2306988</th>\n",
       "      <td>5523173</td>\n",
       "      <td>5.0</td>\n",
       "      <td>0</td>\n",
       "      <td>0</td>\n",
       "      <td>0</td>\n",
       "      <td>its quite a drive to sparks but there are only...</td>\n",
       "      <td>{'negative': 0.001668791, 'neutral': 0.0258900...</td>\n",
       "    </tr>\n",
       "    <tr>\n",
       "      <th>1354912</th>\n",
       "      <td>3227020</td>\n",
       "      <td>5.0</td>\n",
       "      <td>1</td>\n",
       "      <td>0</td>\n",
       "      <td>1</td>\n",
       "      <td>my husband and i visited this location for lun...</td>\n",
       "      <td>{'negative': 0.005358832, 'neutral': 0.0154562...</td>\n",
       "    </tr>\n",
       "    <tr>\n",
       "      <th>1679076</th>\n",
       "      <td>4020477</td>\n",
       "      <td>4.0</td>\n",
       "      <td>7</td>\n",
       "      <td>0</td>\n",
       "      <td>1</td>\n",
       "      <td>finally stopped by here after getting tired of...</td>\n",
       "      <td>{'negative': 0.01297333, 'neutral': 0.13685685...</td>\n",
       "    </tr>\n",
       "    <tr>\n",
       "      <th>27814</th>\n",
       "      <td>63876</td>\n",
       "      <td>1.0</td>\n",
       "      <td>1</td>\n",
       "      <td>1</td>\n",
       "      <td>0</td>\n",
       "      <td>i went here for lunch after an extremely cold ...</td>\n",
       "      <td>{'negative': 0.9374432, 'neutral': 0.056306697...</td>\n",
       "    </tr>\n",
       "    <tr>\n",
       "      <th>1893515</th>\n",
       "      <td>4523556</td>\n",
       "      <td>5.0</td>\n",
       "      <td>0</td>\n",
       "      <td>0</td>\n",
       "      <td>0</td>\n",
       "      <td>called and ordered the chicken tikka pizza  es...</td>\n",
       "      <td>{'negative': 0.0073354337, 'neutral': 0.073567...</td>\n",
       "    </tr>\n",
       "  </tbody>\n",
       "</table>\n",
       "</div>"
      ],
      "text/plain": [
       "              id  stars  useful  funny  cool  \\\n",
       "1251197  2980811    4.0       0      0     0   \n",
       "197231    467079    4.0      12      3     7   \n",
       "226443    543661    1.0       3      0     0   \n",
       "263340    638958    5.0       4      2     4   \n",
       "151897    352283    5.0       1      0     2   \n",
       "2306988  5523173    5.0       0      0     0   \n",
       "1354912  3227020    5.0       1      0     1   \n",
       "1679076  4020477    4.0       7      0     1   \n",
       "27814      63876    1.0       1      1     0   \n",
       "1893515  4523556    5.0       0      0     0   \n",
       "\n",
       "                                                      text  \\\n",
       "1251197  we landed at the reno airport for our honeymoo...   \n",
       "197231   this atmosphere is certainly geared towards am...   \n",
       "226443   food and service are key components to enjoy a...   \n",
       "263340   cyranos is a hidden gem that i wish i had know...   \n",
       "151897   wow kekes truly impressed me this afternoon  m...   \n",
       "2306988  its quite a drive to sparks but there are only...   \n",
       "1354912  my husband and i visited this location for lun...   \n",
       "1679076  finally stopped by here after getting tired of...   \n",
       "27814    i went here for lunch after an extremely cold ...   \n",
       "1893515  called and ordered the chicken tikka pizza  es...   \n",
       "\n",
       "                                                 sentiment  \n",
       "1251197  {'negative': 0.03076893, 'neutral': 0.24498378...  \n",
       "197231   {'negative': 0.032657385, 'neutral': 0.1757533...  \n",
       "226443   {'negative': 0.89177763, 'neutral': 0.09713327...  \n",
       "263340   {'negative': 0.0024086738, 'neutral': 0.013464...  \n",
       "151897   {'negative': 0.002309262, 'neutral': 0.0097565...  \n",
       "2306988  {'negative': 0.001668791, 'neutral': 0.0258900...  \n",
       "1354912  {'negative': 0.005358832, 'neutral': 0.0154562...  \n",
       "1679076  {'negative': 0.01297333, 'neutral': 0.13685685...  \n",
       "27814    {'negative': 0.9374432, 'neutral': 0.056306697...  \n",
       "1893515  {'negative': 0.0073354337, 'neutral': 0.073567...  "
      ]
     },
     "execution_count": 51,
     "metadata": {},
     "output_type": "execute_result"
    }
   ],
   "source": [
    "df_sample.head(10)"
   ]
  }
 ],
 "metadata": {
  "kernelspec": {
   "display_name": "Python 3",
   "language": "python",
   "name": "python3"
  },
  "language_info": {
   "codemirror_mode": {
    "name": "ipython",
    "version": 2
   },
   "file_extension": ".py",
   "mimetype": "text/x-python",
   "name": "python",
   "nbconvert_exporter": "python",
   "pygments_lexer": "ipython2",
   "version": "2.7.6"
  }
 },
 "nbformat": 4,
 "nbformat_minor": 5
}
